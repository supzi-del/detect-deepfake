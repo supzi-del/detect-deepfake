{
  "cells": [
    {
      "cell_type": "markdown",
      "metadata": {
        "id": "nMI7CYxcyiUB"
      },
      "source": [
        "Before running the file Upload all your data set on your goole drive in a zip format"
      ]
    },
    {
      "cell_type": "code",
      "execution_count": null,
      "metadata": {
        "colab": {
          "base_uri": "https://localhost:8080/"
        },
        "id": "YjtnZQkTu6tX",
        "outputId": "adcd8bba-998d-4a27-96fb-64dc9b370951"
      },
      "outputs": [
        {
          "output_type": "stream",
          "name": "stdout",
          "text": [
            "Mounted at /content/drive\n"
          ]
        }
      ],
      "source": [
        "#Mount our google drive\n",
        "from google.colab import drive\n",
        "drive.mount('/content/drive')"
      ]
    },
    {
      "cell_type": "code",
      "source": [
        "from google.colab import drive\n",
        "drive.mount('/content/drive')"
      ],
      "metadata": {
        "colab": {
          "base_uri": "https://localhost:8080/"
        },
        "id": "wS7wKQDwvwIv",
        "outputId": "21b3fcca-5543-4e82-f3e8-1b4102e4000c"
      },
      "execution_count": null,
      "outputs": [
        {
          "output_type": "stream",
          "name": "stdout",
          "text": [
            "Mounted at /content/drive\n"
          ]
        }
      ]
    },
    {
      "cell_type": "code",
      "execution_count": null,
      "metadata": {
        "id": "f4y_fGlmur4v"
      },
      "outputs": [],
      "source": [
        "#before running this please change the RUNTIME to GPU (Runtime -> Change runtime type -> set harware accelarotor as GPU)\n",
        "#download and unzip the data from google drive Colab environment\n",
        "from google_drive_downloader import GoogleDriveDownloader as gdd\n",
        "#use only file id of the link\n",
        "#Note: Below link is just an example, Not an actual link. Actual Links are in ReadMe file\n",
        "\n",
        "#https://drive.google.com/file/d/1BzK-Sq4g0rWns8D7uvHr_XVB0sQ7TaXE/view?usp=sharing\n",
        "url = '1BzK-Sq4g0rWns8D7uvHr_XVB0sQ7TaXE'\n",
        "gdd.download_file_from_google_drive(file_id = url,dest_path='./data.zip',unzip=True)"
      ]
    },
    {
      "cell_type": "code",
      "execution_count": null,
      "metadata": {
        "id": "1f40EeRuvAkO",
        "colab": {
          "base_uri": "https://localhost:8080/"
        },
        "outputId": "9b600941-fab4-4cb8-82ab-d22589dcda70"
      },
      "outputs": [
        {
          "output_type": "stream",
          "name": "stdout",
          "text": [
            "frames [469, 303, 350, 529, 326, 459, 534, 479, 464, 520, 239, 351, 517, 318, 172, 519, 412, 445, 376, 361, 383, 425, 307, 380, 470, 516, 322, 458, 380, 428, 372, 499, 409, 361, 458, 497, 477, 459, 491, 444, 439, 467, 304, 446, 326, 483, 630, 323, 611, 458, 372, 294, 557, 381, 530, 280, 295, 270, 555, 740, 161, 214, 415, 291, 458, 477, 502, 339, 489, 328, 398, 372, 457, 380, 535, 373, 441, 357, 313, 350, 327, 316, 320, 371, 397, 330, 376, 398, 364, 379, 314, 308, 327, 349, 400, 340, 352, 309, 333, 452, 459, 435, 332, 466, 510, 459, 390, 317, 316, 363, 303, 410, 345, 224, 284, 337, 315, 325, 272, 308, 311, 305, 315, 371, 276, 400, 451, 409, 422, 505, 525, 401, 566, 215, 514, 387, 570, 378, 448, 437, 364, 492, 362, 420, 401, 456, 461, 314, 469, 272, 303, 400, 350, 451, 516, 322, 409, 529, 422, 445, 326, 376, 505, 361, 328, 459, 383, 412, 365, 534, 272, 400, 479, 451, 409, 464, 422, 520, 505, 328, 469, 412, 272, 303, 400, 350, 451, 409, 529, 422, 505, 464, 328, 520, 365, 272, 469, 400, 303, 451, 350, 422, 529, 505, 326, 272, 459, 400, 451, 534, 409, 422, 479, 505, 328, 464, 409, 412, 361, 365, 520, 272, 458, 400, 469, 497, 303, 350, 326, 459, 534, 365, 272, 400, 520, 451, 409, 469, 505, 422, 328, 303, 505, 412, 350, 328, 412, 534, 479, 520, 469, 303, 534, 479, 520, 469, 303, 350, 529, 459, 534, 479, 520, 469, 303, 350, 470, 380, 529, 428, 326, 516, 372, 322, 499, 459, 361, 398, 383, 534, 425, 307, 459, 380, 479, 470, 529, 350, 365, 365, 365, 376, 529, 459, 534, 479, 464, 520, 359, 398, 414, 414, 390, 501, 541, 564, 509, 736, 457, 1496, 319, 511, 572, 465, 809, 478, 839, 292, 761, 335, 346, 287, 495, 470, 423, 337, 448, 1248, 300, 483, 471, 410, 550, 628, 828, 316, 413, 546, 394, 667, 325, 504, 383, 718, 323, 525, 542, 371, 302, 454, 423, 435, 556, 298, 335, 512, 543, 567, 714, 718, 359, 504, 456, 732, 476, 608, 427, 677, 763, 1126, 351, 318, 385, 593, 380, 426, 462, 305, 828, 347, 531, 735, 331, 713, 343, 314, 306, 879, 372, 544, 337, 542, 430, 686, 333, 356, 1228, 407, 333, 700, 641, 1176, 634, 322, 512, 719, 597, 905, 515, 578, 313, 296, 305, 637, 488, 328, 645, 306, 862, 518, 504, 1148, 350, 320, 556, 597, 352, 423, 554, 571, 369, 575, 368, 453, 513, 481, 364, 455, 311, 418, 520, 927, 419, 311, 1249, 558, 346, 353, 507, 663, 425, 604, 588, 315, 303, 427, 444, 606, 534, 437, 293, 398, 844, 665, 455, 490, 372, 343, 521, 686, 557, 489, 402, 369, 616, 513, 342, 310, 434, 348, 930, 411, 324, 416, 845, 309, 496, 498, 764, 573, 570, 895, 452, 469, 345, 335, 455, 528, 359, 398, 414, 414, 390, 501, 541, 564, 509, 736, 457, 1496, 319, 511, 572, 465, 809, 478, 839, 292, 761, 335, 346, 287, 495, 470, 423, 337, 448, 1248, 300, 483, 471, 410, 550, 628, 828, 316, 413, 546, 394, 667, 325, 504, 383, 718, 323, 525, 542, 371, 302, 454, 423, 435, 556, 298, 335, 512, 543, 567, 714, 718, 359, 504, 456, 732, 476, 608, 427, 677, 763, 1126, 351, 318, 385, 593, 380, 426, 462, 305, 828, 347, 531, 735, 331, 713, 343, 314, 306, 879, 372, 544, 337, 542, 430, 686, 333, 356, 1228, 407, 333, 700, 641, 1176, 634, 322, 512, 719, 597, 905, 515, 578, 313, 296, 305, 637, 488, 328, 645, 306, 862, 518, 504, 1148, 350, 320, 556, 597, 352, 423, 554, 571, 369, 575, 368, 453, 513, 481, 364, 455, 311, 418, 520, 927, 419, 311, 1249, 558, 346, 353, 507, 663, 425, 604, 588, 315, 303, 427, 444, 606, 534, 437, 293, 398, 844, 665, 455, 490, 372, 343, 521, 686, 557, 489, 402, 369, 616, 513, 342, 310, 434, 348, 930, 411, 324, 416, 845, 309, 496, 498, 764, 573, 570, 895, 452, 469, 345, 335, 455, 528]\n",
            "Total number of videos:  698\n",
            "Average frame per video: 470.67478510028656\n"
          ]
        }
      ],
      "source": [
        "#To get the average frame count\n",
        "import json\n",
        "import glob\n",
        "import numpy as np\n",
        "import cv2\n",
        "import copy\n",
        "#change the path accordingly\n",
        "video_files =  glob.glob('/content/drive/MyDrive/Dataset/*.mp4')\n",
        "#video_files1 =  glob.glob('/content/dfdc_train_part_0/*.mp4')\n",
        "#video_files += video_files1\n",
        "frame_count = []\n",
        "for video_file in video_files:\n",
        "  cap = cv2.VideoCapture(video_file)\n",
        "  if(int(cap.get(cv2.CAP_PROP_FRAME_COUNT))<150):\n",
        "    video_files.remove(video_file)\n",
        "    continue\n",
        "  frame_count.append(int(cap.get(cv2.CAP_PROP_FRAME_COUNT)))\n",
        "print(\"frames\" , frame_count)\n",
        "print(\"Total number of videos: \" , len(frame_count))\n",
        "print('Average frame per video:',np.mean(frame_count))"
      ]
    },
    {
      "cell_type": "code",
      "execution_count": null,
      "metadata": {
        "id": "U92Ovn3JvV52",
        "colab": {
          "base_uri": "https://localhost:8080/"
        },
        "outputId": "f73577ca-7ddb-44bc-eae1-53fe7858f151"
      },
      "outputs": [
        {
          "output_type": "stream",
          "name": "stdout",
          "text": [
            "Collecting face_recognition\n",
            "  Downloading face_recognition-1.3.0-py2.py3-none-any.whl (15 kB)\n",
            "Collecting face-recognition-models>=0.3.0 (from face_recognition)\n",
            "  Downloading face_recognition_models-0.3.0.tar.gz (100.1 MB)\n",
            "\u001b[2K     \u001b[90m━━━━━━━━━━━━━━━━━━━━━━━━━━━━━━━━━━━━━━\u001b[0m \u001b[32m100.1/100.1 MB\u001b[0m \u001b[31m11.8 MB/s\u001b[0m eta \u001b[36m0:00:00\u001b[0m\n",
            "\u001b[?25h  Preparing metadata (setup.py) ... \u001b[?25l\u001b[?25hdone\n",
            "Requirement already satisfied: Click>=6.0 in /usr/local/lib/python3.10/dist-packages (from face_recognition) (8.1.3)\n",
            "Requirement already satisfied: dlib>=19.7 in /usr/local/lib/python3.10/dist-packages (from face_recognition) (19.24.2)\n",
            "Requirement already satisfied: numpy in /usr/local/lib/python3.10/dist-packages (from face_recognition) (1.22.4)\n",
            "Requirement already satisfied: Pillow in /usr/local/lib/python3.10/dist-packages (from face_recognition) (8.4.0)\n",
            "Building wheels for collected packages: face-recognition-models\n",
            "  Building wheel for face-recognition-models (setup.py) ... \u001b[?25l\u001b[?25hdone\n",
            "  Created wheel for face-recognition-models: filename=face_recognition_models-0.3.0-py2.py3-none-any.whl size=100566173 sha256=0729df4638678e8837826152f87ef5561e0b762726251cfac1f9493f7f04bf9a\n",
            "  Stored in directory: /root/.cache/pip/wheels/7a/eb/cf/e9eced74122b679557f597bb7c8e4c739cfcac526db1fd523d\n",
            "Successfully built face-recognition-models\n",
            "Installing collected packages: face-recognition-models, face_recognition\n",
            "Successfully installed face-recognition-models-0.3.0 face_recognition-1.3.0\n"
          ]
        },
        {
          "output_type": "stream",
          "name": "stderr",
          "text": [
            "<ipython-input-3-1758d635a1e7>:21: TqdmExperimentalWarning: Using `tqdm.autonotebook.tqdm` in notebook mode. Use `tqdm.tqdm` instead to force console mode (e.g. in jupyter console)\n",
            "  from tqdm.autonotebook import tqdm\n"
          ]
        }
      ],
      "source": [
        "# to extract frame\n",
        "def frame_extract(path):\n",
        "  vidObj = cv2.VideoCapture(path)\n",
        "  success = 1\n",
        "  while success:\n",
        "      success, image = vidObj.read()\n",
        "      if success:\n",
        "          yield image\n",
        "!pip3 install face_recognition\n",
        "!mkdir '/content/drive/My Drive/FF_REAL_Face_only_data'\n",
        "import torch\n",
        "import torchvision\n",
        "from torchvision import transforms\n",
        "from torch.utils.data import DataLoader\n",
        "from torch.utils.data.dataset import Dataset\n",
        "import os\n",
        "import numpy as np\n",
        "import cv2\n",
        "import matplotlib.pyplot as plt\n",
        "import face_recognition\n",
        "from tqdm.autonotebook import tqdm\n",
        "# process the frames\n",
        "def create_face_videos(path_list,out_dir):\n",
        "  already_present_count =  glob.glob(out_dir+'*.mp4')\n",
        "  print(\"No of videos already present \" , len(already_present_count))\n",
        "  for path in tqdm(path_list):\n",
        "    out_path = os.path.join(out_dir,path.split('/')[-1])\n",
        "    file_exists = glob.glob(out_path)\n",
        "    if(len(file_exists) != 0):\n",
        "      print(\"File Already exists: \" , out_path)\n",
        "      continue\n",
        "    frames = []\n",
        "    flag = 0\n",
        "    face_all = []\n",
        "    frames1 = []\n",
        "    out = cv2.VideoWriter(out_path,cv2.VideoWriter_fourcc('M','J','P','G'), 30, (112,112))\n",
        "    for idx,frame in enumerate(frame_extract(path)):\n",
        "      #if(idx % 3 == 0):\n",
        "      if(idx <= 150):\n",
        "        frames.append(frame)\n",
        "        if(len(frames) == 4):\n",
        "          faces = face_recognition.batch_face_locations(frames)\n",
        "          for i,face in enumerate(faces):\n",
        "            if(len(face) != 0):\n",
        "              top,right,bottom,left = face[0]\n",
        "            try:\n",
        "              out.write(cv2.resize(frames[i][top:bottom,left:right,:],(112,112)))\n",
        "            except:\n",
        "              pass\n",
        "          frames = []\n",
        "    try:\n",
        "      del top,right,bottom,left\n",
        "    except:\n",
        "      pass\n",
        "    out.release()"
      ]
    },
    {
      "cell_type": "code",
      "execution_count": null,
      "metadata": {
        "id": "sF5qiWGLvei-",
        "colab": {
          "base_uri": "https://localhost:8080/",
          "height": 66,
          "referenced_widgets": [
            "2fe9744b5da44a27b38672e2d92f7329",
            "93061c701ac0490a97a55d7b8a30848b",
            "f439f7f5d60646559de9f735a49ff3c2",
            "1f70665a9ae3409891d9534d3530564a",
            "31f8f8752823471c80124f2cdff5783a",
            "b4636f76e0ab46cfa51feb4f192ec446",
            "b4dec3130f994cf48ba667d2635eae85",
            "30c011522ea641a4b9b30c58a58c4dca",
            "46844ad952204927a213ae75a6b3bc0f",
            "c398fe4d3c5f4af094ddf2723b9d8099",
            "3dd68d736a8c47439d8bac24e5fbfdbe"
          ]
        },
        "outputId": "e5cdf2ab-5a7a-4318-8a9f-fef8ba4876eb"
      },
      "outputs": [
        {
          "output_type": "stream",
          "name": "stdout",
          "text": [
            "No of videos already present  0\n"
          ]
        },
        {
          "output_type": "display_data",
          "data": {
            "text/plain": [
              "  0%|          | 0/699 [00:00<?, ?it/s]"
            ],
            "application/vnd.jupyter.widget-view+json": {
              "version_major": 2,
              "version_minor": 0,
              "model_id": "2fe9744b5da44a27b38672e2d92f7329"
            }
          },
          "metadata": {}
        }
      ],
      "source": [
        "create_face_videos(video_files,'/content/drive/My Drive/FF_REAL_Face_only_data/')"
      ]
    }
  ],
  "metadata": {
    "accelerator": "GPU",
    "colab": {
      "provenance": [],
      "gpuType": "T4"
    },
    "kernelspec": {
      "display_name": "Python 3",
      "name": "python3"
    },
    "language_info": {
      "codemirror_mode": {
        "name": "ipython",
        "version": 3
      },
      "file_extension": ".py",
      "mimetype": "text/x-python",
      "name": "python",
      "nbconvert_exporter": "python",
      "pygments_lexer": "ipython3",
      "version": "3.9.12"
    },
    "widgets": {
      "application/vnd.jupyter.widget-state+json": {
        "2fe9744b5da44a27b38672e2d92f7329": {
          "model_module": "@jupyter-widgets/controls",
          "model_name": "HBoxModel",
          "model_module_version": "1.5.0",
          "state": {
            "_dom_classes": [],
            "_model_module": "@jupyter-widgets/controls",
            "_model_module_version": "1.5.0",
            "_model_name": "HBoxModel",
            "_view_count": null,
            "_view_module": "@jupyter-widgets/controls",
            "_view_module_version": "1.5.0",
            "_view_name": "HBoxView",
            "box_style": "",
            "children": [
              "IPY_MODEL_93061c701ac0490a97a55d7b8a30848b",
              "IPY_MODEL_f439f7f5d60646559de9f735a49ff3c2",
              "IPY_MODEL_1f70665a9ae3409891d9534d3530564a"
            ],
            "layout": "IPY_MODEL_31f8f8752823471c80124f2cdff5783a"
          }
        },
        "93061c701ac0490a97a55d7b8a30848b": {
          "model_module": "@jupyter-widgets/controls",
          "model_name": "HTMLModel",
          "model_module_version": "1.5.0",
          "state": {
            "_dom_classes": [],
            "_model_module": "@jupyter-widgets/controls",
            "_model_module_version": "1.5.0",
            "_model_name": "HTMLModel",
            "_view_count": null,
            "_view_module": "@jupyter-widgets/controls",
            "_view_module_version": "1.5.0",
            "_view_name": "HTMLView",
            "description": "",
            "description_tooltip": null,
            "layout": "IPY_MODEL_b4636f76e0ab46cfa51feb4f192ec446",
            "placeholder": "​",
            "style": "IPY_MODEL_b4dec3130f994cf48ba667d2635eae85",
            "value": "100%"
          }
        },
        "f439f7f5d60646559de9f735a49ff3c2": {
          "model_module": "@jupyter-widgets/controls",
          "model_name": "FloatProgressModel",
          "model_module_version": "1.5.0",
          "state": {
            "_dom_classes": [],
            "_model_module": "@jupyter-widgets/controls",
            "_model_module_version": "1.5.0",
            "_model_name": "FloatProgressModel",
            "_view_count": null,
            "_view_module": "@jupyter-widgets/controls",
            "_view_module_version": "1.5.0",
            "_view_name": "ProgressView",
            "bar_style": "success",
            "description": "",
            "description_tooltip": null,
            "layout": "IPY_MODEL_30c011522ea641a4b9b30c58a58c4dca",
            "max": 699,
            "min": 0,
            "orientation": "horizontal",
            "style": "IPY_MODEL_46844ad952204927a213ae75a6b3bc0f",
            "value": 699
          }
        },
        "1f70665a9ae3409891d9534d3530564a": {
          "model_module": "@jupyter-widgets/controls",
          "model_name": "HTMLModel",
          "model_module_version": "1.5.0",
          "state": {
            "_dom_classes": [],
            "_model_module": "@jupyter-widgets/controls",
            "_model_module_version": "1.5.0",
            "_model_name": "HTMLModel",
            "_view_count": null,
            "_view_module": "@jupyter-widgets/controls",
            "_view_module_version": "1.5.0",
            "_view_name": "HTMLView",
            "description": "",
            "description_tooltip": null,
            "layout": "IPY_MODEL_c398fe4d3c5f4af094ddf2723b9d8099",
            "placeholder": "​",
            "style": "IPY_MODEL_3dd68d736a8c47439d8bac24e5fbfdbe",
            "value": " 699/699 [3:11:35&lt;00:00, 23.36s/it]"
          }
        },
        "31f8f8752823471c80124f2cdff5783a": {
          "model_module": "@jupyter-widgets/base",
          "model_name": "LayoutModel",
          "model_module_version": "1.2.0",
          "state": {
            "_model_module": "@jupyter-widgets/base",
            "_model_module_version": "1.2.0",
            "_model_name": "LayoutModel",
            "_view_count": null,
            "_view_module": "@jupyter-widgets/base",
            "_view_module_version": "1.2.0",
            "_view_name": "LayoutView",
            "align_content": null,
            "align_items": null,
            "align_self": null,
            "border": null,
            "bottom": null,
            "display": null,
            "flex": null,
            "flex_flow": null,
            "grid_area": null,
            "grid_auto_columns": null,
            "grid_auto_flow": null,
            "grid_auto_rows": null,
            "grid_column": null,
            "grid_gap": null,
            "grid_row": null,
            "grid_template_areas": null,
            "grid_template_columns": null,
            "grid_template_rows": null,
            "height": null,
            "justify_content": null,
            "justify_items": null,
            "left": null,
            "margin": null,
            "max_height": null,
            "max_width": null,
            "min_height": null,
            "min_width": null,
            "object_fit": null,
            "object_position": null,
            "order": null,
            "overflow": null,
            "overflow_x": null,
            "overflow_y": null,
            "padding": null,
            "right": null,
            "top": null,
            "visibility": null,
            "width": null
          }
        },
        "b4636f76e0ab46cfa51feb4f192ec446": {
          "model_module": "@jupyter-widgets/base",
          "model_name": "LayoutModel",
          "model_module_version": "1.2.0",
          "state": {
            "_model_module": "@jupyter-widgets/base",
            "_model_module_version": "1.2.0",
            "_model_name": "LayoutModel",
            "_view_count": null,
            "_view_module": "@jupyter-widgets/base",
            "_view_module_version": "1.2.0",
            "_view_name": "LayoutView",
            "align_content": null,
            "align_items": null,
            "align_self": null,
            "border": null,
            "bottom": null,
            "display": null,
            "flex": null,
            "flex_flow": null,
            "grid_area": null,
            "grid_auto_columns": null,
            "grid_auto_flow": null,
            "grid_auto_rows": null,
            "grid_column": null,
            "grid_gap": null,
            "grid_row": null,
            "grid_template_areas": null,
            "grid_template_columns": null,
            "grid_template_rows": null,
            "height": null,
            "justify_content": null,
            "justify_items": null,
            "left": null,
            "margin": null,
            "max_height": null,
            "max_width": null,
            "min_height": null,
            "min_width": null,
            "object_fit": null,
            "object_position": null,
            "order": null,
            "overflow": null,
            "overflow_x": null,
            "overflow_y": null,
            "padding": null,
            "right": null,
            "top": null,
            "visibility": null,
            "width": null
          }
        },
        "b4dec3130f994cf48ba667d2635eae85": {
          "model_module": "@jupyter-widgets/controls",
          "model_name": "DescriptionStyleModel",
          "model_module_version": "1.5.0",
          "state": {
            "_model_module": "@jupyter-widgets/controls",
            "_model_module_version": "1.5.0",
            "_model_name": "DescriptionStyleModel",
            "_view_count": null,
            "_view_module": "@jupyter-widgets/base",
            "_view_module_version": "1.2.0",
            "_view_name": "StyleView",
            "description_width": ""
          }
        },
        "30c011522ea641a4b9b30c58a58c4dca": {
          "model_module": "@jupyter-widgets/base",
          "model_name": "LayoutModel",
          "model_module_version": "1.2.0",
          "state": {
            "_model_module": "@jupyter-widgets/base",
            "_model_module_version": "1.2.0",
            "_model_name": "LayoutModel",
            "_view_count": null,
            "_view_module": "@jupyter-widgets/base",
            "_view_module_version": "1.2.0",
            "_view_name": "LayoutView",
            "align_content": null,
            "align_items": null,
            "align_self": null,
            "border": null,
            "bottom": null,
            "display": null,
            "flex": null,
            "flex_flow": null,
            "grid_area": null,
            "grid_auto_columns": null,
            "grid_auto_flow": null,
            "grid_auto_rows": null,
            "grid_column": null,
            "grid_gap": null,
            "grid_row": null,
            "grid_template_areas": null,
            "grid_template_columns": null,
            "grid_template_rows": null,
            "height": null,
            "justify_content": null,
            "justify_items": null,
            "left": null,
            "margin": null,
            "max_height": null,
            "max_width": null,
            "min_height": null,
            "min_width": null,
            "object_fit": null,
            "object_position": null,
            "order": null,
            "overflow": null,
            "overflow_x": null,
            "overflow_y": null,
            "padding": null,
            "right": null,
            "top": null,
            "visibility": null,
            "width": null
          }
        },
        "46844ad952204927a213ae75a6b3bc0f": {
          "model_module": "@jupyter-widgets/controls",
          "model_name": "ProgressStyleModel",
          "model_module_version": "1.5.0",
          "state": {
            "_model_module": "@jupyter-widgets/controls",
            "_model_module_version": "1.5.0",
            "_model_name": "ProgressStyleModel",
            "_view_count": null,
            "_view_module": "@jupyter-widgets/base",
            "_view_module_version": "1.2.0",
            "_view_name": "StyleView",
            "bar_color": null,
            "description_width": ""
          }
        },
        "c398fe4d3c5f4af094ddf2723b9d8099": {
          "model_module": "@jupyter-widgets/base",
          "model_name": "LayoutModel",
          "model_module_version": "1.2.0",
          "state": {
            "_model_module": "@jupyter-widgets/base",
            "_model_module_version": "1.2.0",
            "_model_name": "LayoutModel",
            "_view_count": null,
            "_view_module": "@jupyter-widgets/base",
            "_view_module_version": "1.2.0",
            "_view_name": "LayoutView",
            "align_content": null,
            "align_items": null,
            "align_self": null,
            "border": null,
            "bottom": null,
            "display": null,
            "flex": null,
            "flex_flow": null,
            "grid_area": null,
            "grid_auto_columns": null,
            "grid_auto_flow": null,
            "grid_auto_rows": null,
            "grid_column": null,
            "grid_gap": null,
            "grid_row": null,
            "grid_template_areas": null,
            "grid_template_columns": null,
            "grid_template_rows": null,
            "height": null,
            "justify_content": null,
            "justify_items": null,
            "left": null,
            "margin": null,
            "max_height": null,
            "max_width": null,
            "min_height": null,
            "min_width": null,
            "object_fit": null,
            "object_position": null,
            "order": null,
            "overflow": null,
            "overflow_x": null,
            "overflow_y": null,
            "padding": null,
            "right": null,
            "top": null,
            "visibility": null,
            "width": null
          }
        },
        "3dd68d736a8c47439d8bac24e5fbfdbe": {
          "model_module": "@jupyter-widgets/controls",
          "model_name": "DescriptionStyleModel",
          "model_module_version": "1.5.0",
          "state": {
            "_model_module": "@jupyter-widgets/controls",
            "_model_module_version": "1.5.0",
            "_model_name": "DescriptionStyleModel",
            "_view_count": null,
            "_view_module": "@jupyter-widgets/base",
            "_view_module_version": "1.2.0",
            "_view_name": "StyleView",
            "description_width": ""
          }
        }
      }
    }
  },
  "nbformat": 4,
  "nbformat_minor": 0
}